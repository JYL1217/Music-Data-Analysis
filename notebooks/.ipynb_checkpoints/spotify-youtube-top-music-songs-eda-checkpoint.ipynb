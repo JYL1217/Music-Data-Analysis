{
 "cells": [
  {
   "cell_type": "code",
   "execution_count": null,
   "metadata": {
    "_cell_guid": "b1076dfc-b9ad-4769-8c92-a6c4dae69d19",
    "_uuid": "8f2839f25d086af736a60e9eeb907d3b93b6e0e5",
    "execution": {
     "iopub.execute_input": "2023-03-22T10:28:08.067445Z",
     "iopub.status.busy": "2023-03-22T10:28:08.066638Z",
     "iopub.status.idle": "2023-03-22T10:28:08.082095Z",
     "shell.execute_reply": "2023-03-22T10:28:08.080762Z",
     "shell.execute_reply.started": "2023-03-22T10:28:08.067403Z"
    }
   },
   "outputs": [],
   "source": [
    "import numpy as np # linear algebra\n",
    "import pandas as pd # data processing, CSV file I/O (e.g. pd.read_csv)\n",
    "import matplotlib.pyplot as plt\n",
    "import seaborn as sns\n",
    "import plotly.express as px"
   ]
  },
  {
   "cell_type": "code",
   "execution_count": null,
   "metadata": {
    "execution": {
     "iopub.execute_input": "2023-03-22T10:28:08.085223Z",
     "iopub.status.busy": "2023-03-22T10:28:08.08445Z",
     "iopub.status.idle": "2023-03-22T10:28:08.632939Z",
     "shell.execute_reply": "2023-03-22T10:28:08.631644Z",
     "shell.execute_reply.started": "2023-03-22T10:28:08.085173Z"
    }
   },
   "outputs": [],
   "source": [
    "df = pd.read_csv(\"/kaggle/input/spotify-and-youtube/Spotify_Youtube.csv\")"
   ]
  },
  {
   "cell_type": "code",
   "execution_count": null,
   "metadata": {
    "execution": {
     "iopub.execute_input": "2023-03-22T10:28:08.636023Z",
     "iopub.status.busy": "2023-03-22T10:28:08.635261Z",
     "iopub.status.idle": "2023-03-22T10:28:08.666825Z",
     "shell.execute_reply": "2023-03-22T10:28:08.665522Z",
     "shell.execute_reply.started": "2023-03-22T10:28:08.635973Z"
    }
   },
   "outputs": [],
   "source": [
    "df.head()"
   ]
  },
  {
   "cell_type": "code",
   "execution_count": null,
   "metadata": {
    "execution": {
     "iopub.execute_input": "2023-03-22T10:28:08.668394Z",
     "iopub.status.busy": "2023-03-22T10:28:08.668079Z",
     "iopub.status.idle": "2023-03-22T10:28:08.675624Z",
     "shell.execute_reply": "2023-03-22T10:28:08.674392Z",
     "shell.execute_reply.started": "2023-03-22T10:28:08.668363Z"
    }
   },
   "outputs": [],
   "source": [
    "df.columns"
   ]
  },
  {
   "cell_type": "code",
   "execution_count": null,
   "metadata": {
    "execution": {
     "iopub.execute_input": "2023-03-22T10:28:08.678883Z",
     "iopub.status.busy": "2023-03-22T10:28:08.678513Z",
     "iopub.status.idle": "2023-03-22T10:28:08.68807Z",
     "shell.execute_reply": "2023-03-22T10:28:08.686894Z",
     "shell.execute_reply.started": "2023-03-22T10:28:08.678849Z"
    }
   },
   "outputs": [],
   "source": [
    "url_cols = ['Unnamed: 0', 'Url_spotify', 'Uri', 'Url_youtube', 'Title', 'Description']\n",
    "df.drop(url_cols, axis=1, inplace=True)"
   ]
  },
  {
   "cell_type": "code",
   "execution_count": null,
   "metadata": {
    "execution": {
     "iopub.execute_input": "2023-03-22T10:28:08.691081Z",
     "iopub.status.busy": "2023-03-22T10:28:08.68994Z",
     "iopub.status.idle": "2023-03-22T10:28:08.723133Z",
     "shell.execute_reply": "2023-03-22T10:28:08.721879Z",
     "shell.execute_reply.started": "2023-03-22T10:28:08.69101Z"
    }
   },
   "outputs": [],
   "source": [
    "df.head()"
   ]
  },
  {
   "cell_type": "code",
   "execution_count": null,
   "metadata": {
    "execution": {
     "iopub.execute_input": "2023-03-22T10:28:08.72617Z",
     "iopub.status.busy": "2023-03-22T10:28:08.725789Z",
     "iopub.status.idle": "2023-03-22T10:28:08.752014Z",
     "shell.execute_reply": "2023-03-22T10:28:08.750734Z",
     "shell.execute_reply.started": "2023-03-22T10:28:08.726136Z"
    }
   },
   "outputs": [],
   "source": [
    "df.info()"
   ]
  },
  {
   "cell_type": "code",
   "execution_count": null,
   "metadata": {
    "execution": {
     "iopub.execute_input": "2023-03-22T10:28:08.753743Z",
     "iopub.status.busy": "2023-03-22T10:28:08.753416Z",
     "iopub.status.idle": "2023-03-22T10:28:08.774709Z",
     "shell.execute_reply": "2023-03-22T10:28:08.773432Z",
     "shell.execute_reply.started": "2023-03-22T10:28:08.753711Z"
    }
   },
   "outputs": [],
   "source": [
    "df.dropna(inplace=True)"
   ]
  },
  {
   "cell_type": "code",
   "execution_count": null,
   "metadata": {
    "execution": {
     "iopub.execute_input": "2023-03-22T10:28:08.777072Z",
     "iopub.status.busy": "2023-03-22T10:28:08.776371Z",
     "iopub.status.idle": "2023-03-22T10:28:08.825205Z",
     "shell.execute_reply": "2023-03-22T10:28:08.823864Z",
     "shell.execute_reply.started": "2023-03-22T10:28:08.77702Z"
    }
   },
   "outputs": [],
   "source": [
    "duplicates = df.duplicated()\n",
    "\n",
    "print(df[duplicates])"
   ]
  },
  {
   "cell_type": "code",
   "execution_count": null,
   "metadata": {
    "execution": {
     "iopub.execute_input": "2023-03-22T10:28:08.827098Z",
     "iopub.status.busy": "2023-03-22T10:28:08.826765Z",
     "iopub.status.idle": "2023-03-22T10:28:08.848422Z",
     "shell.execute_reply": "2023-03-22T10:28:08.847114Z",
     "shell.execute_reply.started": "2023-03-22T10:28:08.82705Z"
    }
   },
   "outputs": [],
   "source": [
    "df.info()"
   ]
  },
  {
   "cell_type": "code",
   "execution_count": null,
   "metadata": {
    "execution": {
     "iopub.execute_input": "2023-03-22T10:28:08.852651Z",
     "iopub.status.busy": "2023-03-22T10:28:08.85222Z",
     "iopub.status.idle": "2023-03-22T10:28:08.919575Z",
     "shell.execute_reply": "2023-03-22T10:28:08.9183Z",
     "shell.execute_reply.started": "2023-03-22T10:28:08.852615Z"
    }
   },
   "outputs": [],
   "source": [
    "df.describe()"
   ]
  },
  {
   "cell_type": "code",
   "execution_count": null,
   "metadata": {
    "execution": {
     "iopub.execute_input": "2023-03-22T10:28:08.921134Z",
     "iopub.status.busy": "2023-03-22T10:28:08.92078Z",
     "iopub.status.idle": "2023-03-22T10:28:08.930068Z",
     "shell.execute_reply": "2023-03-22T10:28:08.928768Z",
     "shell.execute_reply.started": "2023-03-22T10:28:08.9211Z"
    }
   },
   "outputs": [],
   "source": [
    "album_type_count = df['Album_type'].value_counts()\n",
    "print(album_type_count)"
   ]
  },
  {
   "cell_type": "code",
   "execution_count": null,
   "metadata": {
    "execution": {
     "iopub.execute_input": "2023-03-22T10:28:08.931887Z",
     "iopub.status.busy": "2023-03-22T10:28:08.931538Z",
     "iopub.status.idle": "2023-03-22T10:28:09.094415Z",
     "shell.execute_reply": "2023-03-22T10:28:09.093042Z",
     "shell.execute_reply.started": "2023-03-22T10:28:08.931854Z"
    }
   },
   "outputs": [],
   "source": [
    "# Create a pie chart\n",
    "labels = album_type_count.index.tolist()\n",
    "sizes = album_type_count.values.tolist()\n",
    "plt.pie(sizes, labels=labels, autopct='%1.1f%%', startangle=90)\n",
    "\n",
    "plt.title('Album Types')\n",
    "plt.legend(labels, loc='best')\n",
    "\n",
    "plt.show()"
   ]
  },
  {
   "cell_type": "code",
   "execution_count": null,
   "metadata": {
    "execution": {
     "iopub.execute_input": "2023-03-22T10:28:09.096847Z",
     "iopub.status.busy": "2023-03-22T10:28:09.096388Z",
     "iopub.status.idle": "2023-03-22T10:28:09.121331Z",
     "shell.execute_reply": "2023-03-22T10:28:09.120134Z",
     "shell.execute_reply.started": "2023-03-22T10:28:09.096801Z"
    }
   },
   "outputs": [],
   "source": [
    "# Group the songs by artist and views - youtube, stream - spotify\n",
    "artist_grouped = df.groupby('Artist')[['Views', 'Stream']].sum()\n",
    "\n",
    "# Sort the artists by the sum of views and streams in descending order\n",
    "artist_sorted = artist_grouped.sort_values(['Views', 'Stream'], ascending=False)\n",
    "\n",
    "# Get the top 10 artists with the most number of views on YouTube and streams on Spotify\n",
    "top_10 = artist_sorted.head(10)\n",
    "\n",
    "top_10"
   ]
  },
  {
   "cell_type": "code",
   "execution_count": null,
   "metadata": {
    "execution": {
     "iopub.execute_input": "2023-03-22T10:28:09.124011Z",
     "iopub.status.busy": "2023-03-22T10:28:09.123256Z",
     "iopub.status.idle": "2023-03-22T10:28:09.654261Z",
     "shell.execute_reply": "2023-03-22T10:28:09.653241Z",
     "shell.execute_reply.started": "2023-03-22T10:28:09.123964Z"
    }
   },
   "outputs": [],
   "source": [
    "# Create two separate DataFrames for views and streams\n",
    "df_views = df.groupby('Artist')['Views'].sum().sort_values(ascending=False)[:10]\n",
    "df_streams = df.groupby('Artist')['Stream'].sum().sort_values(ascending=False)[:10]\n",
    "\n",
    "fig, (ax1, ax2) = plt.subplots(1, 2, figsize=(12,6))\n",
    "\n",
    "# top 10 yt\n",
    "ax1.set_title('Top 10 Artists on YouTube')\n",
    "df_views.plot(kind='bar', ax=ax1)\n",
    "\n",
    "# top 10 spotofy\n",
    "ax2.set_title('Top 10 Artists on Spotify')\n",
    "df_streams.plot(kind='bar', ax=ax2)\n",
    "\n",
    "\n",
    "ax1.set_xlabel('Artist')\n",
    "ax1.set_ylabel('Views')\n",
    "ax2.set_xlabel('Artist')\n",
    "ax2.set_ylabel('Streams')\n",
    "fig.tight_layout()\n",
    "plt.show()\n"
   ]
  },
  {
   "cell_type": "code",
   "execution_count": null,
   "metadata": {
    "execution": {
     "iopub.execute_input": "2023-03-22T10:28:09.656687Z",
     "iopub.status.busy": "2023-03-22T10:28:09.655929Z",
     "iopub.status.idle": "2023-03-22T10:28:09.672276Z",
     "shell.execute_reply": "2023-03-22T10:28:09.670963Z",
     "shell.execute_reply.started": "2023-03-22T10:28:09.656645Z"
    }
   },
   "outputs": [],
   "source": [
    "# Top 10 songs based on views\n",
    "top10_views = df.nlargest(10, 'Views')\n",
    "\n",
    "# Top 10 songs based on comments\n",
    "top10_comments = df.nlargest(10, 'Comments')\n",
    "\n",
    "# Top 10 songs based on likes\n",
    "top10_likes = df.nlargest(10, 'Likes')\n"
   ]
  },
  {
   "cell_type": "code",
   "execution_count": null,
   "metadata": {
    "execution": {
     "iopub.execute_input": "2023-03-22T10:28:09.674153Z",
     "iopub.status.busy": "2023-03-22T10:28:09.673772Z",
     "iopub.status.idle": "2023-03-22T10:28:10.375908Z",
     "shell.execute_reply": "2023-03-22T10:28:10.374679Z",
     "shell.execute_reply.started": "2023-03-22T10:28:09.674117Z"
    }
   },
   "outputs": [],
   "source": [
    "\n",
    "fig, axs = plt.subplots(nrows=1, ncols=3, figsize=(12, 4))\n",
    "\n",
    "# Top 10 songs with most views\n",
    "top10_views.plot(kind='barh', x='Track', y='Views', ax=axs[0])\n",
    "axs[0].set_title('Top 10 songs with most views')\n",
    "\n",
    "# Top 10 songs with most comments\n",
    "top10_comments.plot(kind='barh', x='Track', y='Comments', ax=axs[1])\n",
    "axs[1].set_title('Top 10 songs with most comments')\n",
    "\n",
    "# Top 10 songs with most likes\n",
    "top10_likes.plot(kind='barh', x='Track', y='Likes', ax=axs[2])\n",
    "axs[2].set_title('Top 10 songs with most likes')\n",
    "\n",
    "fig.tight_layout()\n",
    "\n",
    "\n",
    "plt.show()\n"
   ]
  },
  {
   "cell_type": "markdown",
   "metadata": {},
   "source": [
    "**I will update this notebook by analysing the songs further based on technical parameters.**"
   ]
  },
  {
   "cell_type": "code",
   "execution_count": null,
   "metadata": {
    "execution": {
     "iopub.execute_input": "2023-03-22T10:28:10.378765Z",
     "iopub.status.busy": "2023-03-22T10:28:10.377578Z",
     "iopub.status.idle": "2023-03-22T10:28:10.403457Z",
     "shell.execute_reply": "2023-03-22T10:28:10.402263Z",
     "shell.execute_reply.started": "2023-03-22T10:28:10.378726Z"
    }
   },
   "outputs": [],
   "source": [
    "top_songs = df.sort_values('Stream', ascending=False).head(10)\n",
    "top_songs[['Track', 'Energy', 'Danceability', 'Acousticness']]"
   ]
  },
  {
   "cell_type": "code",
   "execution_count": null,
   "metadata": {
    "execution": {
     "iopub.execute_input": "2023-03-22T10:28:10.405309Z",
     "iopub.status.busy": "2023-03-22T10:28:10.40486Z",
     "iopub.status.idle": "2023-03-22T10:28:11.061148Z",
     "shell.execute_reply": "2023-03-22T10:28:11.059861Z",
     "shell.execute_reply.started": "2023-03-22T10:28:10.405271Z"
    }
   },
   "outputs": [],
   "source": [
    "top_songs_melt = top_songs.melt(id_vars=['Track'], value_vars=['Energy', 'Danceability', 'Acousticness'],\n",
    "                                var_name='Attribute', value_name='Value')\n",
    "\n",
    "sns.set_style('whitegrid')\n",
    "sns.catplot(x='Track', y='Value', hue='Attribute', data=top_songs_melt, kind='bar',\n",
    "            palette={'Energy': 'blue', 'Danceability': 'orange', 'Acousticness': 'green'},\n",
    "            aspect=2, legend=False)\n",
    "\n",
    "\n",
    "plt.legend(loc='upper right', bbox_to_anchor=(1.25, 1))\n",
    "plt.title('Top 10 Songs by Stream')\n",
    "plt.xlabel('Track')\n",
    "plt.ylabel('Value')\n",
    "\n",
    "plt.xticks(rotation=90)\n",
    "plt.show()\n"
   ]
  },
  {
   "cell_type": "markdown",
   "metadata": {},
   "source": [
    "Songs with dance beats and high energy are more popular"
   ]
  },
  {
   "cell_type": "code",
   "execution_count": null,
   "metadata": {
    "execution": {
     "iopub.execute_input": "2023-03-22T10:28:11.063552Z",
     "iopub.status.busy": "2023-03-22T10:28:11.062822Z",
     "iopub.status.idle": "2023-03-22T10:28:11.09338Z",
     "shell.execute_reply": "2023-03-22T10:28:11.092109Z",
     "shell.execute_reply.started": "2023-03-22T10:28:11.0635Z"
    }
   },
   "outputs": [],
   "source": [
    "dup_row = df[df['Track'] == 'Sunflower - Spider-Man: Into the Spider-Verse']\n",
    "dup_row"
   ]
  },
  {
   "cell_type": "markdown",
   "metadata": {},
   "source": [
    "It looks that songs with multiple artists are not grouped together and they come up as duplicates. So, no need to clean it. We are running analysis on just the tracks. "
   ]
  },
  {
   "cell_type": "code",
   "execution_count": null,
   "metadata": {
    "execution": {
     "iopub.execute_input": "2023-03-22T10:28:11.095443Z",
     "iopub.status.busy": "2023-03-22T10:28:11.094975Z",
     "iopub.status.idle": "2023-03-22T10:28:11.110609Z",
     "shell.execute_reply": "2023-03-22T10:28:11.109246Z",
     "shell.execute_reply.started": "2023-03-22T10:28:11.095396Z"
    }
   },
   "outputs": [],
   "source": [
    "high_acousticness = 0.6\n",
    "\n",
    "# filter the data for high and low acousticness\n",
    "high_acousticness_group = df[df['Acousticness'] >= high_acousticness]\n",
    "low_acousticness_group = df[df['Acousticness'] < high_acousticness]\n",
    "\n",
    "# calculate the mean stream count for each group\n",
    "high_acousticness_stream_mean = high_acousticness_group['Stream'].mean()\n",
    "low_acousticness_stream_mean = low_acousticness_group['Stream'].mean()\n",
    "\n",
    "# print the results\n",
    "print('Mean stream count for artists with higher acousticness:', high_acousticness_stream_mean)\n",
    "print('Mean stream count for artists with lower acousticness:', low_acousticness_stream_mean)\n"
   ]
  },
  {
   "cell_type": "code",
   "execution_count": null,
   "metadata": {
    "execution": {
     "iopub.execute_input": "2023-03-22T10:28:11.112384Z",
     "iopub.status.busy": "2023-03-22T10:28:11.111938Z",
     "iopub.status.idle": "2023-03-22T10:28:11.127479Z",
     "shell.execute_reply": "2023-03-22T10:28:11.126225Z",
     "shell.execute_reply.started": "2023-03-22T10:28:11.112346Z"
    }
   },
   "outputs": [],
   "source": [
    "high_dance = 0.6\n",
    "\n",
    "# filter the data for high and low dance\n",
    "high_dance_group = df[df['Danceability'] >= high_dance]\n",
    "low_dance_group = df[df['Danceability'] < high_dance]\n",
    "\n",
    "# calculate the mean stream count for each group\n",
    "high_dance_stream_mean = high_dance_group['Stream'].mean()\n",
    "low_dance_stream_mean = low_dance_group['Stream'].mean()\n",
    "\n",
    "# print the results\n",
    "print('Mean stream count for artists with higher Danceability:', high_dance_stream_mean)\n",
    "print('Mean stream count for artists with lower Danceability:', low_dance_stream_mean)"
   ]
  },
  {
   "cell_type": "code",
   "execution_count": null,
   "metadata": {},
   "outputs": [],
   "source": []
  }
 ],
 "metadata": {
  "kaggle": {
   "accelerator": "none",
   "dataSources": [
    {
     "datasetId": 3025170,
     "sourceId": 5201951,
     "sourceType": "datasetVersion"
    }
   ],
   "dockerImageVersionId": 30407,
   "isGpuEnabled": false,
   "isInternetEnabled": true,
   "language": "python",
   "sourceType": "notebook"
  },
  "kernelspec": {
   "display_name": "Python 3 (ipykernel)",
   "language": "python",
   "name": "python3"
  },
  "language_info": {
   "codemirror_mode": {
    "name": "ipython",
    "version": 3
   },
   "file_extension": ".py",
   "mimetype": "text/x-python",
   "name": "python",
   "nbconvert_exporter": "python",
   "pygments_lexer": "ipython3",
   "version": "3.8.17"
  }
 },
 "nbformat": 4,
 "nbformat_minor": 4
}
